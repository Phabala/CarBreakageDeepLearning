{
 "cells": [
  {
   "cell_type": "code",
   "execution_count": 1,
   "metadata": {},
   "outputs": [],
   "source": [
    "import pandas as pd\n",
    "import numpy as np"
   ]
  },
  {
   "cell_type": "code",
   "execution_count": 2,
   "metadata": {},
   "outputs": [],
   "source": [
    "damage_csv = pd.read_csv('./../datas/damage_csv(damage).csv')\n",
    "part_csv = pd.read_csv('./../datas/damage_csv(part).csv')"
   ]
  },
  {
   "cell_type": "code",
   "execution_count": 4,
   "metadata": {},
   "outputs": [
    {
     "name": "stdout",
     "output_type": "stream",
     "text": [
      "  0000002_as-0036229.jpg 0000003_as-0036229.jpg 0000004_as-0036229.jpg  \\\n",
      "0               Breakage               Breakage               Breakage   \n",
      "\n",
      "  0000005_as-0036229.jpg 0000006_as-0036229.jpg 0000007_as-0036229.jpg  \\\n",
      "0              Scratched              Separated              Separated   \n",
      "\n",
      "  0000009_sc-186320.jpg 0000011_sc-186320.jpg 0000012_sc-182987.jpg  \\\n",
      "0             Scratched              Breakage             Scratched   \n",
      "\n",
      "  0000013_as-0031772.jpg  ... 0506222_as-2872357.jpg 0506223_as-7125576.jpg  \\\n",
      "0              Separated  ...              Separated                Crushed   \n",
      "\n",
      "  0506224_as-3233185.jpg 0506225_sc-1023899.jpg 0506226_sc-1023899.jpg  \\\n",
      "0               Breakage              Scratched              Scratched   \n",
      "\n",
      "  0506228_sc-191813.jpg 0506229_sc-191813.jpg 0506230_sc-191813.jpg  \\\n",
      "0             Scratched             Scratched             Scratched   \n",
      "\n",
      "  0506231_sc-202337.jpg 0506232_sc-202337.jpg  \n",
      "0             Separated             Scratched  \n",
      "\n",
      "[1 rows x 403559 columns]\n"
     ]
    }
   ],
   "source": [
    "print(damage_csv)"
   ]
  },
  {
   "cell_type": "code",
   "execution_count": 5,
   "metadata": {},
   "outputs": [
    {
     "name": "stdout",
     "output_type": "stream",
     "text": [
      "  0000002_as-0036229.jpg 0000003_as-0036229.jpg 0000004_as-0036229.jpg  \\\n",
      "0               Breakage               Breakage               Breakage   \n",
      "\n",
      "  0000005_as-0036229.jpg 0000006_as-0036229.jpg 0000007_as-0036229.jpg  \\\n",
      "0              Scratched              Separated              Separated   \n",
      "\n",
      "  0000009_sc-186320.jpg 0000011_sc-186320.jpg 0000012_sc-182987.jpg  \\\n",
      "0             Scratched              Breakage             Scratched   \n",
      "\n",
      "  0000013_as-0031772.jpg  ... 0506222_as-2872357.jpg 0506223_as-7125576.jpg  \\\n",
      "0              Separated  ...              Separated                Crushed   \n",
      "\n",
      "  0506224_as-3233185.jpg 0506225_sc-1023899.jpg 0506226_sc-1023899.jpg  \\\n",
      "0               Breakage              Scratched              Scratched   \n",
      "\n",
      "  0506228_sc-191813.jpg 0506229_sc-191813.jpg 0506230_sc-191813.jpg  \\\n",
      "0             Scratched             Scratched             Scratched   \n",
      "\n",
      "  0506231_sc-202337.jpg 0506232_sc-202337.jpg  \n",
      "0             Separated             Scratched  \n",
      "\n",
      "[1 rows x 403559 columns]\n"
     ]
    }
   ],
   "source": [
    "print(part_csv)"
   ]
  }
 ],
 "metadata": {
  "kernelspec": {
   "display_name": "Python 3.9.10 64-bit",
   "language": "python",
   "name": "python3"
  },
  "language_info": {
   "codemirror_mode": {
    "name": "ipython",
    "version": 3
   },
   "file_extension": ".py",
   "mimetype": "text/x-python",
   "name": "python",
   "nbconvert_exporter": "python",
   "pygments_lexer": "ipython3",
   "version": "3.9.10"
  },
  "orig_nbformat": 4,
  "vscode": {
   "interpreter": {
    "hash": "58af98c40b543e76eacc2e559dad9056dd1d862d9bc88ad430627968da8d19dc"
   }
  }
 },
 "nbformat": 4,
 "nbformat_minor": 2
}
