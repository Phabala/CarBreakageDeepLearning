{
 "cells": [
  {
   "cell_type": "markdown",
   "id": "abac21e6",
   "metadata": {},
   "source": [
    "## import"
   ]
  },
  {
   "cell_type": "code",
   "execution_count": 6,
   "id": "ef25b673-d703-4a22-bcb1-f15fc8ac0701",
   "metadata": {},
   "outputs": [],
   "source": [
    "import shutil\n",
    "import os\n",
    "from tqdm import tqdm\n",
    "import pandas as pd\n",
    "import numpy as np\n",
    "from collections import Counter"
   ]
  },
  {
   "cell_type": "markdown",
   "id": "44115f80",
   "metadata": {},
   "source": [
    "## part와 damage의 형태 파악, value들 리스트로 뽑아내기"
   ]
  },
  {
   "cell_type": "code",
   "execution_count": 7,
   "id": "7232bbaf-bac8-46b5-b32b-43f1ef4e5fb6",
   "metadata": {},
   "outputs": [],
   "source": [
    "file_source = './../imgs/datas/1.Training/1.원천데이터/TS_damage/damage/'"
   ]
  },
  {
   "cell_type": "code",
   "execution_count": 8,
   "id": "d242a843-0c7d-4832-8235-2a1c9926fd99",
   "metadata": {},
   "outputs": [],
   "source": [
    "get_files = os.listdir(file_source)"
   ]
  },
  {
   "cell_type": "code",
   "execution_count": 9,
   "id": "9f7f211e-bc9b-4e6b-8330-1a9fc78c3df9",
   "metadata": {},
   "outputs": [
    {
     "data": {
      "text/plain": [
       "402143"
      ]
     },
     "execution_count": 9,
     "metadata": {},
     "output_type": "execute_result"
    }
   ],
   "source": [
    "len(get_files)"
   ]
  },
  {
   "cell_type": "code",
   "execution_count": 10,
   "id": "32d7789e",
   "metadata": {},
   "outputs": [],
   "source": [
    "# 이제 여기서 파일의 이름들과 데미지, 파손부위 리스트들이 필요하다.\n",
    "damage_csv_raw = pd.read_csv('./../datas/damage_csv(damage).csv')\n",
    "part_csv_raw = pd.read_csv('./../datas/damage_csv(part).csv')"
   ]
  },
  {
   "cell_type": "code",
   "execution_count": 11,
   "id": "c73f810a",
   "metadata": {},
   "outputs": [],
   "source": [
    "damage_csv= damage_csv_raw.T\n",
    "part_csv= part_csv_raw.T"
   ]
  },
  {
   "cell_type": "code",
   "execution_count": 12,
   "id": "5f4d3cb3",
   "metadata": {},
   "outputs": [
    {
     "name": "stdout",
     "output_type": "stream",
     "text": [
      "                                0\n",
      "0000002_as-0036229.jpg   Breakage\n",
      "0000003_as-0036229.jpg   Breakage\n",
      "0000004_as-0036229.jpg   Breakage\n",
      "0000005_as-0036229.jpg  Scratched\n",
      "0000006_as-0036229.jpg  Separated\n",
      "...                           ...\n",
      "0506228_sc-191813.jpg   Scratched\n",
      "0506229_sc-191813.jpg   Scratched\n",
      "0506230_sc-191813.jpg   Scratched\n",
      "0506231_sc-202337.jpg   Separated\n",
      "0506232_sc-202337.jpg   Scratched\n",
      "\n",
      "[403559 rows x 1 columns]\n",
      "                                    0\n",
      "0000002_as-0036229.jpg    Rear bumper\n",
      "0000003_as-0036229.jpg    Rear bumper\n",
      "0000004_as-0036229.jpg    Rear bumper\n",
      "0000005_as-0036229.jpg    Rear bumper\n",
      "0000006_as-0036229.jpg    Rear bumper\n",
      "...                               ...\n",
      "0506224_as-3233185.jpg  Front door(L)\n",
      "0506225_sc-1023899.jpg    Rear bumper\n",
      "0506226_sc-1023899.jpg    Rear bumper\n",
      "0506231_sc-202337.jpg    Front bumper\n",
      "0506232_sc-202337.jpg    Front bumper\n",
      "\n",
      "[370257 rows x 1 columns]\n"
     ]
    }
   ],
   "source": [
    "print(damage_csv)\n",
    "print(part_csv)"
   ]
  },
  {
   "cell_type": "code",
   "execution_count": 13,
   "id": "3ab75b3d",
   "metadata": {},
   "outputs": [],
   "source": [
    "# 리스트화\n",
    "damage_jpg = damage_csv.index.tolist()\n",
    "part_jpg = part_csv.index.tolist()\n",
    "damage_value = damage_csv[0].values.tolist()\n",
    "part_value = part_csv[0].values.tolist()"
   ]
  },
  {
   "cell_type": "code",
   "execution_count": 14,
   "id": "1a4d05e4",
   "metadata": {},
   "outputs": [
    {
     "name": "stdout",
     "output_type": "stream",
     "text": [
      "['0000002_as-0036229.jpg', '0000003_as-0036229.jpg', '0000004_as-0036229.jpg', '0000005_as-0036229.jpg', '0000006_as-0036229.jpg', '0000007_as-0036229.jpg', '0000009_sc-186320.jpg', '0000011_sc-186320.jpg', '0000012_sc-182987.jpg', '0000013_as-0031772.jpg']\n",
      "['0000002_as-0036229.jpg', '0000003_as-0036229.jpg', '0000004_as-0036229.jpg', '0000005_as-0036229.jpg', '0000006_as-0036229.jpg', '0000007_as-0036229.jpg', '0000009_sc-186320.jpg', '0000011_sc-186320.jpg', '0000012_sc-182987.jpg', '0000017_as-2579102.jpg']\n",
      "['Breakage', 'Breakage', 'Breakage', 'Scratched', 'Separated', 'Separated', 'Scratched', 'Breakage', 'Scratched', 'Separated']\n",
      "['Rear bumper', 'Rear bumper', 'Rear bumper', 'Rear bumper', 'Rear bumper', 'Rear bumper', 'Front Wheel(R)', 'Front Wheel(R)', 'Front bumper', 'Front bumper']\n"
     ]
    }
   ],
   "source": [
    "print(damage_jpg[:10])\n",
    "print(part_jpg[:10])\n",
    "print(damage_value[:10])\n",
    "print(part_value[:10])\n"
   ]
  },
  {
   "cell_type": "code",
   "execution_count": 15,
   "id": "97c8dce7",
   "metadata": {},
   "outputs": [
    {
     "name": "stdout",
     "output_type": "stream",
     "text": [
      "Counter({'Scratched': 251497, 'Separated': 57853, 'Breakage': 51332, 'Crushed': 42877})\n",
      "Counter({'Front bumper': 149530, 'Rear bumper': 67631, 'Rear door(R)': 19162, 'Rear fender(R)': 16307, 'Rear fender(L)': 16284, 'Bumper': 12255, 'Rocker panel': 10046, 'Front door(R)': 9128, 'Rear door(L)': 8521, 'Front door(L)': 7754, 'Front fender(R)': 5667, 'Front fender(L)': 5394, 'Rocker panel(R)': 5330, 'Front Wheel(R)': 4660, 'Bonnet': 4020, 'Head lights(L)': 3645, 'Trunk lid': 3593, 'Head lights(R)': 2774, 'Rear Wheel(R)': 2742, 'Front Wheel(L)': 2454, 'A pillar(R)': 1511, 'Side mirror(L)': 1486, 'Rear lamp(R)': 1348, 'Head lights': 1309, 'Side mirror(R)': 1255, 'Rear Wheel(L)': 1166, 'Roof': 1117, 'Rear lamp(L)': 763, 'B pillar(R)': 751, 'B pillar(L)': 725, 'Rocker panel(L)': 605, 'Rear door': 432, 'Rear fender': 242, 'A pillar(L)': 234, 'C pillar(L)': 125, 'Front door': 94, 'C pillar(R)': 75, 'Windshield': 44, 'A pillar': 31, 'Front fender': 17, 'Side mirror': 15, 'Front Wheel': 6, 'Rear Wheel': 4, 'Rear windshield': 3, 'Undercarriage': 2})\n"
     ]
    }
   ],
   "source": [
    "# value 들의 원소의 종류는 몇개일까?\n",
    "print(Counter(damage_value))\n",
    "print(Counter(part_value))"
   ]
  },
  {
   "cell_type": "code",
   "execution_count": 16,
   "id": "b9114ec7",
   "metadata": {},
   "outputs": [],
   "source": [
    "dct = {'Front bumper': 149530, 'Rear bumper': 67631, 'Rear door(R)': 19162, 'Rear fender(R)': 16307, 'Rear fender(L)': 16284, 'Bumper': 12255, 'Rocker panel': 10046, 'Front door(R)': 9128, 'Rear door(L)': 8521, 'Front door(L)': 7754, 'Front fender(R)': 5667, 'Front fender(L)': 5394, 'Rocker panel(R)': 5330, 'Front Wheel(R)': 4660, 'Bonnet': 4020, 'Head lights(L)': 3645, 'Trunk lid': 3593, 'Head lights(R)': 2774, 'Rear Wheel(R)': 2742, 'Front Wheel(L)': 2454, 'A pillar(R)': 1511, 'Side mirror(L)': 1486, 'Rear lamp(R)': 1348, 'Head lights': 1309, 'Side mirror(R)': 1255, 'Rear Wheel(L)': 1166, 'Roof': 1117, 'Rear lamp(L)': 763, 'B pillar(R)': 751, 'B pillar(L)': 725, 'Rocker panel(L)': 605, 'Rear door': 432, 'Rear fender': 242, 'A pillar(L)': 234, 'C pillar(L)': 125, 'Front door': 94, 'C pillar(R)': 75, 'Windshield': 44, 'A pillar': 31, 'Front fender': 17, 'Side mirror': 15, 'Front Wheel': 6, 'Rear Wheel': 4, 'Rear windshield': 3, 'Undercarriage': 2}\n",
    "d_dct = {'Scratched': 251497, 'Separated': 57853, 'Breakage': 51332, 'Crushed': 42877}"
   ]
  },
  {
   "cell_type": "code",
   "execution_count": 17,
   "id": "6313b516",
   "metadata": {},
   "outputs": [],
   "source": [
    "part_nunique_raw = pd.DataFrame(dct, index = [0])\n",
    "damage_nunique_raw = pd.DataFrame(d_dct, index = [0])"
   ]
  },
  {
   "cell_type": "code",
   "execution_count": 18,
   "id": "0c61ff2d",
   "metadata": {},
   "outputs": [],
   "source": [
    "part_nunique = part_nunique_raw.T\n",
    "damage_nunique = damage_nunique_raw.T"
   ]
  },
  {
   "cell_type": "code",
   "execution_count": 19,
   "id": "068185fc",
   "metadata": {},
   "outputs": [
    {
     "name": "stdout",
     "output_type": "stream",
     "text": [
      "                      0\n",
      "Front bumper     149530\n",
      "Rear bumper       67631\n",
      "Rear door(R)      19162\n",
      "Rear fender(R)    16307\n",
      "Rear fender(L)    16284\n",
      "Bumper            12255\n",
      "Rocker panel      10046\n",
      "Front door(R)      9128\n",
      "Rear door(L)       8521\n",
      "Front door(L)      7754\n",
      "Front fender(R)    5667\n",
      "Front fender(L)    5394\n",
      "Rocker panel(R)    5330\n",
      "Front Wheel(R)     4660\n",
      "Bonnet             4020\n",
      "Head lights(L)     3645\n",
      "Trunk lid          3593\n",
      "Head lights(R)     2774\n",
      "Rear Wheel(R)      2742\n",
      "Front Wheel(L)     2454\n",
      "A pillar(R)        1511\n",
      "Side mirror(L)     1486\n",
      "Rear lamp(R)       1348\n",
      "Head lights        1309\n",
      "Side mirror(R)     1255\n",
      "Rear Wheel(L)      1166\n",
      "Roof               1117\n",
      "Rear lamp(L)        763\n",
      "B pillar(R)         751\n",
      "B pillar(L)         725\n",
      "Rocker panel(L)     605\n",
      "Rear door           432\n",
      "Rear fender         242\n",
      "A pillar(L)         234\n",
      "C pillar(L)         125\n",
      "Front door           94\n",
      "C pillar(R)          75\n",
      "Windshield           44\n",
      "A pillar             31\n",
      "Front fender         17\n",
      "Side mirror          15\n",
      "Front Wheel           6\n",
      "Rear Wheel            4\n",
      "Rear windshield       3\n",
      "Undercarriage         2\n",
      "                0\n",
      "Scratched  251497\n",
      "Separated   57853\n",
      "Breakage    51332\n",
      "Crushed     42877\n"
     ]
    }
   ],
   "source": [
    "print(part_nunique)\n",
    "print(damage_nunique)"
   ]
  },
  {
   "cell_type": "code",
   "execution_count": 20,
   "id": "ff3ac80e",
   "metadata": {},
   "outputs": [],
   "source": [
    "#part_nunique 의 인덱스를 tolist 하자.\n",
    "part_list = part_nunique.index.tolist()\n",
    "damage_list = damage_nunique.index.tolist()"
   ]
  },
  {
   "cell_type": "code",
   "execution_count": 21,
   "id": "3b6375a4-4714-4d1c-aac4-2162e887eded",
   "metadata": {},
   "outputs": [
    {
     "name": "stdout",
     "output_type": "stream",
     "text": [
      "['Front bumper', 'Rear bumper', 'Rear door(R)', 'Rear fender(R)', 'Rear fender(L)', 'Bumper', 'Rocker panel', 'Front door(R)', 'Rear door(L)', 'Front door(L)', 'Front fender(R)', 'Front fender(L)', 'Rocker panel(R)', 'Front Wheel(R)', 'Bonnet', 'Head lights(L)', 'Trunk lid', 'Head lights(R)', 'Rear Wheel(R)', 'Front Wheel(L)', 'A pillar(R)', 'Side mirror(L)', 'Rear lamp(R)', 'Head lights', 'Side mirror(R)', 'Rear Wheel(L)', 'Roof', 'Rear lamp(L)', 'B pillar(R)', 'B pillar(L)', 'Rocker panel(L)', 'Rear door', 'Rear fender', 'A pillar(L)', 'C pillar(L)', 'Front door', 'C pillar(R)', 'Windshield', 'A pillar', 'Front fender', 'Side mirror', 'Front Wheel', 'Rear Wheel', 'Rear windshield', 'Undercarriage']\n",
      "['Scratched', 'Separated', 'Breakage', 'Crushed']\n"
     ]
    }
   ],
   "source": [
    "print(part_list)\n",
    "print(damage_list)"
   ]
  },
  {
   "cell_type": "markdown",
   "id": "ae93f043",
   "metadata": {},
   "source": [
    "## 파일 복사하기"
   ]
  },
  {
   "cell_type": "code",
   "execution_count": 53,
   "id": "53eb7cd7",
   "metadata": {},
   "outputs": [],
   "source": [
    "file_source = './../imgs/datas/1.Training/1.원천데이터/TS_damage/damage'\n",
    "file_destination_damage = './../imgs/damage_classified'\n",
    "file_destination_part = './../imgs/part_classified'"
   ]
  },
  {
   "cell_type": "code",
   "execution_count": 63,
   "id": "d1da70eb",
   "metadata": {},
   "outputs": [],
   "source": [
    "# 종류와 파일명을 받아서, 그 파일을 종류의 디렉토리에 copy 해야한다.\n",
    "# 아, 내가 typelist의 폴더들 까지 만들어야 하는구나(코드로 만들게 하자.)\n",
    "def classifier(filelist, typelist, classified_folder, source, destination):\n",
    "    n_excepts = 0\n",
    "    if len(filelist) == len(typelist):\n",
    "        for j in range(len(classified_folder)):\n",
    "            os.mkdir(destination + '/' + classified_folder[j])\n",
    "        get_files = os.listdir(source)\n",
    "        for i in tqdm(range(len(filelist))):\n",
    "            try:\n",
    "                shutil.copy(source + '/' + filelist[i], destination + '/' + typelist[i])\n",
    "            except FileNotFoundError:\n",
    "                n_excepts += 1\n",
    "                pass\n",
    "        print(f'FileNotFoundError 발생 수: {n_excepts}')\n",
    "    else:\n",
    "        raise ValueError('filelist and typelist\\'s lengths should be same.')"
   ]
  },
  {
   "cell_type": "markdown",
   "id": "a98ccbff",
   "metadata": {},
   "source": [
    "def copier(sortype, source, destination):\n",
    "    get_files = os.listdir(source)\n",
    "    for g in tqdm(get_files):\n",
    "        shutil.copy(source +'/' + g, destination + '/' + sortype)"
   ]
  },
  {
   "cell_type": "markdown",
   "id": "b4ba3fc4",
   "metadata": {},
   "source": [
    "test_filelist = ['1.jpg', '2.jpg', '3.jpg']\n",
    "test_typelist = ['1', '2', '3']\n",
    "test_source = './../test_animal/archive/copiertest/source_dir'\n",
    "test_destination = './../test_animal/archive/copiertest/destination_dir'"
   ]
  },
  {
   "cell_type": "markdown",
   "id": "9ba844cf",
   "metadata": {},
   "source": [
    "classifier(test_filelist,test_typelist,test_source,test_destination)"
   ]
  },
  {
   "cell_type": "code",
   "execution_count": 62,
   "id": "ae75e523",
   "metadata": {},
   "outputs": [
    {
     "name": "stderr",
     "output_type": "stream",
     "text": [
      "100%|██████████| 403559/403559 [47:46<00:00, 140.77it/s] \n"
     ]
    },
    {
     "ename": "TypeError",
     "evalue": "can only concatenate str (not \"int\") to str",
     "output_type": "error",
     "traceback": [
      "\u001b[1;31m---------------------------------------------------------------------------\u001b[0m",
      "\u001b[1;31mTypeError\u001b[0m                                 Traceback (most recent call last)",
      "\u001b[1;32mc:\\bigdata\\ipynbs\\file_copier.ipynb Cell 25\u001b[0m in \u001b[0;36m<cell line: 1>\u001b[1;34m()\u001b[0m\n\u001b[1;32m----> <a href='vscode-notebook-cell:/c%3A/bigdata/ipynbs/file_copier.ipynb#X45sZmlsZQ%3D%3D?line=0'>1</a>\u001b[0m classifier(damage_jpg, damage_value, damage_list, file_source, file_destination_damage)\n",
      "\u001b[1;32mc:\\bigdata\\ipynbs\\file_copier.ipynb Cell 25\u001b[0m in \u001b[0;36mclassifier\u001b[1;34m(filelist, typelist, classified_folder, source, destination)\u001b[0m\n\u001b[0;32m     <a href='vscode-notebook-cell:/c%3A/bigdata/ipynbs/file_copier.ipynb#X45sZmlsZQ%3D%3D?line=12'>13</a>\u001b[0m             n_excepts \u001b[39m+\u001b[39m\u001b[39m=\u001b[39m \u001b[39m1\u001b[39m\n\u001b[0;32m     <a href='vscode-notebook-cell:/c%3A/bigdata/ipynbs/file_copier.ipynb#X45sZmlsZQ%3D%3D?line=13'>14</a>\u001b[0m             \u001b[39mpass\u001b[39;00m\n\u001b[1;32m---> <a href='vscode-notebook-cell:/c%3A/bigdata/ipynbs/file_copier.ipynb#X45sZmlsZQ%3D%3D?line=14'>15</a>\u001b[0m     \u001b[39mprint\u001b[39m(\u001b[39m'\u001b[39;49m\u001b[39mFileNotFoundError 발생 수: \u001b[39;49m\u001b[39m'\u001b[39;49m \u001b[39m+\u001b[39;49m n_excepts)\n\u001b[0;32m     <a href='vscode-notebook-cell:/c%3A/bigdata/ipynbs/file_copier.ipynb#X45sZmlsZQ%3D%3D?line=15'>16</a>\u001b[0m \u001b[39melse\u001b[39;00m:\n\u001b[0;32m     <a href='vscode-notebook-cell:/c%3A/bigdata/ipynbs/file_copier.ipynb#X45sZmlsZQ%3D%3D?line=16'>17</a>\u001b[0m     \u001b[39mraise\u001b[39;00m \u001b[39mValueError\u001b[39;00m(\u001b[39m'\u001b[39m\u001b[39mfilelist and typelist\u001b[39m\u001b[39m\\'\u001b[39;00m\u001b[39ms lengths should be same.\u001b[39m\u001b[39m'\u001b[39m)\n",
      "\u001b[1;31mTypeError\u001b[0m: can only concatenate str (not \"int\") to str"
     ]
    }
   ],
   "source": [
    "classifier(damage_jpg, damage_value, damage_list, file_source, file_destination_damage)"
   ]
  },
  {
   "cell_type": "code",
   "execution_count": 64,
   "id": "24fd4aee",
   "metadata": {},
   "outputs": [
    {
     "name": "stderr",
     "output_type": "stream",
     "text": [
      "100%|██████████| 370257/370257 [19:24<00:00, 317.86it/s]"
     ]
    },
    {
     "name": "stdout",
     "output_type": "stream",
     "text": [
      "FileNotFoundError 발생 수: 1260\n"
     ]
    },
    {
     "name": "stderr",
     "output_type": "stream",
     "text": [
      "\n"
     ]
    }
   ],
   "source": [
    "classifier(part_jpg, part_value, part_list, file_source, file_destination_part)"
   ]
  }
 ],
 "metadata": {
  "kernelspec": {
   "display_name": "Python 3 (ipykernel)",
   "language": "python",
   "name": "python3"
  },
  "language_info": {
   "codemirror_mode": {
    "name": "ipython",
    "version": 3
   },
   "file_extension": ".py",
   "mimetype": "text/x-python",
   "name": "python",
   "nbconvert_exporter": "python",
   "pygments_lexer": "ipython3",
   "version": "3.9.10"
  },
  "vscode": {
   "interpreter": {
    "hash": "58af98c40b543e76eacc2e559dad9056dd1d862d9bc88ad430627968da8d19dc"
   }
  }
 },
 "nbformat": 4,
 "nbformat_minor": 5
}
