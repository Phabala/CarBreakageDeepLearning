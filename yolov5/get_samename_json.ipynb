{
 "cells": [
  {
   "cell_type": "markdown",
   "metadata": {},
   "source": [
    "# 파이썬 특정 폴더(디렉토리) 파일 리스트 가져오기"
   ]
  },
  {
   "cell_type": "code",
   "execution_count": 2,
   "metadata": {},
   "outputs": [],
   "source": [
    "import os\n",
    "import shutil\n",
    "from pathlib import Path\n",
    "from tqdm import tqdm\n",
    "import shutil"
   ]
  },
  {
   "cell_type": "code",
   "execution_count": 17,
   "metadata": {},
   "outputs": [
    {
     "name": "stdout",
     "output_type": "stream",
     "text": [
      "['0000002_as-0036229', '0000003_as-0036229', '0000004_as-0036229', '0000005_as-0036229', '0000006_as-0036229', '0000007_as-0036229', '0000009_sc-186320', '0000011_sc-186320', '0000012_sc-182987', '0000013_as-0031772']\n"
     ]
    }
   ],
   "source": [
    "# img_list --> 이미지 파일 리스트\n",
    "img_path = \"C:/Dev/bigdata/imgs/datas/1.Training/1.원천데이터/TS_damage/damage_img/damage_img01\"\n",
    "img_list = os.listdir(img_path)\n",
    "for i in range(len(img_list)):\n",
    "    img_list[i] = Path(img_list[i]).stem\n",
    "\n",
    "print(img_list[:10])"
   ]
  },
  {
   "cell_type": "code",
   "execution_count": 4,
   "metadata": {},
   "outputs": [
    {
     "name": "stdout",
     "output_type": "stream",
     "text": [
      "['0000002_as-0036229.json', '0000003_as-0036229.json', '0000004_as-0036229.json', '0000005_as-0036229.json', '0000006_as-0036229.json', '0000007_as-0036229.json', '0000009_sc-186320.json', '0000011_sc-186320.json', '0000012_sc-182987.json', '0000013_as-0031772.json']\n"
     ]
    }
   ],
   "source": [
    "# json_list --> 제이슨 파일 리스트\n",
    "json_path = \"C:/Dev/bigdata/imgs/datas/1.Training/2.라벨링데이터/TL_damage/damage\"\n",
    "json_list = os.listdir(json_path)\n",
    "\n",
    "print(json_list[:10])"
   ]
  },
  {
   "cell_type": "code",
   "execution_count": 25,
   "metadata": {},
   "outputs": [],
   "source": [
    "original_path = \"C:/Dev/bigdata/imgs/datas/1.Training/2.라벨링데이터/TL_damage/damage/\""
   ]
  },
  {
   "cell_type": "code",
   "execution_count": 30,
   "metadata": {},
   "outputs": [],
   "source": [
    "json_move_path = \"C:/Dev/bigdata/imgs/datas/1.Training/2.라벨링데이터/TL_damage/damage_json_01\""
   ]
  },
  {
   "cell_type": "code",
   "execution_count": 31,
   "metadata": {},
   "outputs": [
    {
     "name": "stderr",
     "output_type": "stream",
     "text": [
      "100%|██████████| 10000/10000 [04:34<00:00, 36.42it/s]\n"
     ]
    }
   ],
   "source": [
    "for img in tqdm(img_list):\n",
    "    for json in json_list:\n",
    "        if img == Path(json).stem:\n",
    "            shutil.copy(original_path+json, json_move_path)\n",
    "            break"
   ]
  },
  {
   "cell_type": "code",
   "execution_count": null,
   "metadata": {},
   "outputs": [],
   "source": [
    "for img in tqdm(img_list):\n",
    "    for json in json_list:\n",
    "        if img == Path(json).stem:\n",
    "            shutil.copy(original_path+json, json_move_path)\n",
    "            break\n",
    "    img_list.pop(img)"
   ]
  },
  {
   "cell_type": "markdown",
   "metadata": {},
   "source": [
    "# 텍스트 파일 옮기기"
   ]
  },
  {
   "cell_type": "code",
   "execution_count": 36,
   "metadata": {},
   "outputs": [],
   "source": [
    "dir1 = \"C:/Dev/bigdata/imgs/datas/1.Training/2.라벨링데이터/TL_damage/txts/\"\n",
    "dir2 = \"C:/Dev/bigdata/imgs/datas/1.Training/2.라벨링데이터/TL_damage/texts/\""
   ]
  },
  {
   "cell_type": "code",
   "execution_count": 32,
   "metadata": {},
   "outputs": [],
   "source": [
    "files = os.listdir(dir1)"
   ]
  },
  {
   "cell_type": "code",
   "execution_count": 33,
   "metadata": {},
   "outputs": [
    {
     "data": {
      "text/plain": [
       "'0000002_as-0036229'"
      ]
     },
     "execution_count": 33,
     "metadata": {},
     "output_type": "execute_result"
    }
   ],
   "source": [
    "files[0][:-8]"
   ]
  },
  {
   "cell_type": "code",
   "execution_count": 37,
   "metadata": {},
   "outputs": [
    {
     "name": "stderr",
     "output_type": "stream",
     "text": [
      "100%|██████████| 10000/10000 [00:08<00:00, 1133.71it/s]\n"
     ]
    }
   ],
   "source": [
    "for file in tqdm(files):\n",
    "    shutil.move(dir1+file, dir2+file[:-8]+'.txt')"
   ]
  }
 ],
 "metadata": {
  "kernelspec": {
   "display_name": "Python 3.9.10 64-bit",
   "language": "python",
   "name": "python3"
  },
  "language_info": {
   "codemirror_mode": {
    "name": "ipython",
    "version": 3
   },
   "file_extension": ".py",
   "mimetype": "text/x-python",
   "name": "python",
   "nbconvert_exporter": "python",
   "pygments_lexer": "ipython3",
   "version": "3.9.10"
  },
  "orig_nbformat": 4,
  "vscode": {
   "interpreter": {
    "hash": "58af98c40b543e76eacc2e559dad9056dd1d862d9bc88ad430627968da8d19dc"
   }
  }
 },
 "nbformat": 4,
 "nbformat_minor": 2
}
