{
  "cells": [
    {
      "cell_type": "code",
      "execution_count": 2,
      "metadata": {
        "id": "vLHhXNJvfZsA"
      },
      "outputs": [],
      "source": [
        "import json\n",
        "import os\n",
        "from tqdm import tqdm\n",
        "import cv2"
      ]
    },
    {
      "cell_type": "code",
      "execution_count": 3,
      "metadata": {
        "id": "2Lt1kXbjoMon"
      },
      "outputs": [],
      "source": [
        "damage_dir='C:/Dev/bigdata/imgs/datas/1.Training/2.라벨링데이터/TL_damage/damage/'\n",
        "files= os.listdir(damage_dir)"
      ]
    },
    {
      "cell_type": "code",
      "execution_count": 4,
      "metadata": {},
      "outputs": [
        {
          "data": {
            "text/plain": [
              "list"
            ]
          },
          "execution_count": 4,
          "metadata": {},
          "output_type": "execute_result"
        }
      ],
      "source": [
        "type(files)"
      ]
    },
    {
      "cell_type": "code",
      "execution_count": 5,
      "metadata": {},
      "outputs": [
        {
          "name": "stdout",
          "output_type": "stream",
          "text": [
            "20220\n",
            "30344\n"
          ]
        }
      ],
      "source": [
        "print(files.index('0025518_as-2501378.json')) # 파일3 시작\n",
        "print(files.index('0038066_as-0067675.json')) # 파일3 끝"
      ]
    },
    {
      "cell_type": "code",
      "execution_count": 6,
      "metadata": {},
      "outputs": [
        {
          "name": "stdout",
          "output_type": "stream",
          "text": [
            "30345\n",
            "40462\n"
          ]
        }
      ],
      "source": [
        "print(files.index('0038067_as-0067675.json')) # 파일4 시작\n",
        "print(files.index('0050710_as-0014699.json')) # 파일4 끝"
      ]
    },
    {
      "cell_type": "code",
      "execution_count": 7,
      "metadata": {},
      "outputs": [
        {
          "name": "stdout",
          "output_type": "stream",
          "text": [
            "40463\n",
            "50627\n"
          ]
        }
      ],
      "source": [
        "print(files.index('0050711_as-0014699.json')) # 파일5 시작\n",
        "print(files.index('0063532_sc-124160.json')) # 파일5 끝"
      ]
    },
    {
      "cell_type": "code",
      "execution_count": 8,
      "metadata": {},
      "outputs": [
        {
          "name": "stdout",
          "output_type": "stream",
          "text": [
            "50629\n",
            "60790\n"
          ]
        }
      ],
      "source": [
        "print(files.index('0063536_as-0042169.json')) # 파일6(빅사이즈1) 시작\n",
        "print(files.index('0076307_sc-1011996.json')) # 파일6 끝"
      ]
    },
    {
      "cell_type": "code",
      "execution_count": 9,
      "metadata": {},
      "outputs": [
        {
          "name": "stdout",
          "output_type": "stream",
          "text": [
            "60791\n",
            "70937\n"
          ]
        }
      ],
      "source": [
        "print(files.index('0076309_as-0062748.json')) # 파일7(빅사이즈2) 시작\n",
        "print(files.index('0089099_sc-162384.json')) # 파일7 끝"
      ]
    },
    {
      "cell_type": "code",
      "execution_count": null,
      "metadata": {},
      "outputs": [],
      "source": [
        "img_dir = \"C:/Dev/bigdata/imgs/datas/1.Training/1.원천데이터/TS_damage/damage_img/damage_img06_bigsized\"\n",
        "imgs = os.listdir(img_dir)"
      ]
    },
    {
      "cell_type": "code",
      "execution_count": null,
      "metadata": {},
      "outputs": [
        {
          "data": {
            "text/plain": [
              "'0038067_as-0067675.jpg'"
            ]
          },
          "execution_count": 37,
          "metadata": {},
          "output_type": "execute_result"
        }
      ],
      "source": [
        "imgs[0]"
      ]
    },
    {
      "cell_type": "code",
      "execution_count": null,
      "metadata": {},
      "outputs": [
        {
          "name": "stdout",
          "output_type": "stream",
          "text": [
            "(600, 800, 3)\n"
          ]
        }
      ],
      "source": [
        "img = cv2.imread(img_dir+'/'+imgs[0])\n",
        "print(img.shape)"
      ]
    },
    {
      "cell_type": "code",
      "execution_count": null,
      "metadata": {},
      "outputs": [],
      "source": []
    },
    {
      "cell_type": "code",
      "execution_count": null,
      "metadata": {
        "colab": {
          "base_uri": "https://localhost:8080/",
          "height": 36
        },
        "id": "2GCgz70wog8v",
        "outputId": "641c7333-d1b6-4277-dbbf-d3cc62e58e36"
      },
      "outputs": [
        {
          "data": {
            "text/plain": [
              "'0000002_as-0036229.json'"
            ]
          },
          "execution_count": 39,
          "metadata": {},
          "output_type": "execute_result"
        }
      ],
      "source": [
        "files[0]"
      ]
    },
    {
      "cell_type": "code",
      "execution_count": 12,
      "metadata": {
        "id": "pqc7qsFYojbR"
      },
      "outputs": [],
      "source": [
        "with open(damage_dir+files[0], 'r', encoding='utf-8-sig') as json_file:\n",
        "    data = json.load(json_file)"
      ]
    },
    {
      "cell_type": "code",
      "execution_count": 15,
      "metadata": {
        "id": "VWwXywnp_U7k"
      },
      "outputs": [
        {
          "data": {
            "text/plain": [
              "{'id': 1, 'width': 800, 'height': 600, 'file_name': '0000002_as-0036229.jpg'}"
            ]
          },
          "execution_count": 15,
          "metadata": {},
          "output_type": "execute_result"
        }
      ],
      "source": [
        "name=data['images']['file_name']\n",
        "name"
      ]
    },
    {
      "cell_type": "code",
      "execution_count": 18,
      "metadata": {},
      "outputs": [
        {
          "data": {
            "text/plain": [
              "800"
            ]
          },
          "execution_count": 18,
          "metadata": {},
          "output_type": "execute_result"
        }
      ],
      "source": [
        "w = data['images']['width']\n",
        "w"
      ]
    },
    {
      "cell_type": "code",
      "execution_count": 21,
      "metadata": {},
      "outputs": [
        {
          "data": {
            "text/plain": [
              "600"
            ]
          },
          "execution_count": 21,
          "metadata": {},
          "output_type": "execute_result"
        }
      ],
      "source": [
        "h = data['images']['height']\n",
        "h"
      ]
    },
    {
      "cell_type": "code",
      "execution_count": 19,
      "metadata": {
        "id": "2tzfBhiJ9vhm"
      },
      "outputs": [],
      "source": [
        "txt_b='C:/Dev/bigdata/imgs/datas/1.Training/2.라벨링데이터/TL_damage/txts3/'"
      ]
    },
    {
      "cell_type": "markdown",
      "metadata": {},
      "source": [
        "# 이미지의 shape 구하기"
      ]
    },
    {
      "cell_type": "code",
      "execution_count": null,
      "metadata": {},
      "outputs": [],
      "source": []
    },
    {
      "cell_type": "markdown",
      "metadata": {
        "id": "rbcFGPh4opWK"
      },
      "source": [
        "#'Scratched'=0,'Crushed'=1,'Breakage'=2,'Separated=3'"
      ]
    },
    {
      "cell_type": "code",
      "execution_count": 11,
      "metadata": {
        "colab": {
          "base_uri": "https://localhost:8080/",
          "height": 1000
        },
        "id": "-LcCq6GT1D2i",
        "outputId": "f6fd56a1-91d4-4b57-f53f-f4c542dbf094"
      },
      "outputs": [
        {
          "name": "stderr",
          "output_type": "stream",
          "text": [
            "100%|██████████| 10124/10124 [01:24<00:00, 119.32it/s]\n"
          ]
        }
      ],
      "source": [
        "for i in tqdm(range(20220,30344)): # 만개 안에서\n",
        "  #이미지 shape 구하기\n",
        "  \n",
        "  with open(damage_dir+files[i], 'r', encoding='utf-8-sig') as json_file: # 디렉토리에 있는 i번째 제이슨 파일을 불러들인데\n",
        "        data = json.load(json_file) # 제이슨 파일을 로드한다.\n",
        "  name=data['images']['file_name'] # name은 제이슨의 'image' 와 'file_name'\n",
        "  txt_dir=f'C:/Dev/yolov5/datas/texts3/{name[:-4]}.txt' # 텍스트 디렉토리는 파일명의 .txt\n",
        "  x = open(txt_dir,'w') # 텍스트 디렉토리를 열고 쓴다.\n",
        "  x.close()\n",
        "\n",
        "  w = data['images']['width']\n",
        "  h = data['images']['height'] \n",
        "\n",
        "  # 만약 파손 부위가 하나이면\n",
        "  if len(data['annotations']) == 1 :\n",
        "    a=len(data['annotations'][0]['segmentation'][0][0])\n",
        "    b=data['annotations'][0]['segmentation'][0][0]\n",
        "    x_points=[]\n",
        "    y_points=[]\n",
        "    for k in range(a):\n",
        "      x_points.append(b[k][0])\n",
        "      y_points.append(b[k][1])\n",
        "    c=[((min(x_points)+max(x_points))/2)*(1/w),((min(y_points)+max(y_points))/2)*(1/h), (max(x_points)-min(x_points))*(1/w),(max(y_points)-min(y_points))*(1/h)]\n",
        "    # 저장\n",
        "    if data['annotations'][0]['damage'] == 'Scratched':\n",
        "      d=[]\n",
        "      d.append(0)\n",
        "    elif data['annotations'][0]['damage'] == 'Crushed':\n",
        "      d=[]\n",
        "      d.append(1)\n",
        "    elif data['annotations'][0]['damage'] == 'Breakage':\n",
        "      d=[]\n",
        "      d.append(2)\n",
        "    else:\n",
        "      d=[]\n",
        "      d.append(3)\n",
        "    x = open(txt_dir,'a')\n",
        "    x.write(f'{d[0]} {c[0]} {c[1]} {c[2]} {c[3]}\\n')\n",
        "    x.close()\n",
        "  #만약 파손 부위가 1개 이상이면\n",
        "  elif len(data['annotations']) > 1:\n",
        "    for m in range(len(data['annotations'])):\n",
        "      a=len(data['annotations'][m]['segmentation'][0][0])\n",
        "      b=data['annotations'][m]['segmentation'][0][0]\n",
        "      x_points=[]\n",
        "      y_points=[]\n",
        "      for j in range(a):\n",
        "        x_points.append(b[j][0])\n",
        "        y_points.append(b[j][1])\n",
        "      c=[((min(x_points)+max(x_points))/2)*(1/w),((min(y_points)+max(y_points))/2)*(1/h), (max(x_points)-min(x_points))*(1/w),(max(y_points)-min(y_points))*(1/h)]\n",
        "      #저장\n",
        "      if m==0:\n",
        "        if data['annotations'][m]['damage'] == 'Scratched':\n",
        "          d=[]\n",
        "          d.append(0)\n",
        "        elif data['annotations'][m]['damage'] == 'Crushed':\n",
        "          d=[]\n",
        "          d.append(1)\n",
        "        elif data['annotations'][m]['damage'] == 'Breakage':\n",
        "          d=[]\n",
        "          d.append(2)\n",
        "        else:\n",
        "          d=[]\n",
        "          d.append(3)\n",
        "        x = open(txt_dir,'a')\n",
        "        x.write(f'{d[0]} {c[0]} {c[1]} {c[2]} {c[3]}\\n')\n",
        "        x.close()\n",
        "      else:\n",
        "        if data['annotations'][m]['damage'] == 'Scratched':\n",
        "          d=[]\n",
        "          d.append(0)\n",
        "        elif data['annotations'][m]['damage'] == 'Crushed':\n",
        "          d=[]\n",
        "          d.append(1)\n",
        "        elif data['annotations'][m]['damage'] == 'Breakage':\n",
        "          d=[]\n",
        "          d.append(2)\n",
        "        else:\n",
        "          d=[]\n",
        "          d.append(3)\n",
        "        x = open(txt_dir,'a')\n",
        "        x.write(f'{d[0]} {c[0]} {c[1]} {c[2]} {c[3]}\\n')\n",
        "        x.close()"
      ]
    },
    {
      "cell_type": "code",
      "execution_count": 12,
      "metadata": {
        "colab": {
          "base_uri": "https://localhost:8080/"
        },
        "id": "8pnHasSE72fM",
        "outputId": "b3cf49de-0728-4700-ad0c-4c669da90bc9"
      },
      "outputs": [
        {
          "name": "stderr",
          "output_type": "stream",
          "text": [
            "100%|██████████| 10117/10117 [01:15<00:00, 133.27it/s]\n"
          ]
        }
      ],
      "source": [
        "for i in tqdm(range(30345,40462)): # 만개 안에서\n",
        "  #이미지 shape 구하기\n",
        "  \n",
        "  with open(damage_dir+files[i], 'r', encoding='utf-8-sig') as json_file: # 디렉토리에 있는 i번째 제이슨 파일을 불러들인데\n",
        "        data = json.load(json_file) # 제이슨 파일을 로드한다.\n",
        "  name=data['images']['file_name'] # name은 제이슨의 'image' 와 'file_name'\n",
        "  txt_dir=f'C:/Dev/yolov5/datas/texts4/{name[:-4]}.txt' # 텍스트 디렉토리는 파일명의 .txt\n",
        "  x = open(txt_dir,'w') # 텍스트 디렉토리를 열고 쓴다.\n",
        "  x.close()\n",
        "\n",
        "  w = data['images']['width']\n",
        "  h = data['images']['height'] \n",
        "\n",
        "  # 만약 파손 부위가 하나이면\n",
        "  if len(data['annotations']) == 1 :\n",
        "    a=len(data['annotations'][0]['segmentation'][0][0])\n",
        "    b=data['annotations'][0]['segmentation'][0][0]\n",
        "    x_points=[]\n",
        "    y_points=[]\n",
        "    for k in range(a):\n",
        "      x_points.append(b[k][0])\n",
        "      y_points.append(b[k][1])\n",
        "    c=[((min(x_points)+max(x_points))/2)*(1/w),((min(y_points)+max(y_points))/2)*(1/h), (max(x_points)-min(x_points))*(1/w),(max(y_points)-min(y_points))*(1/h)]\n",
        "    # 저장\n",
        "    if data['annotations'][0]['damage'] == 'Scratched':\n",
        "      d=[]\n",
        "      d.append(0)\n",
        "    elif data['annotations'][0]['damage'] == 'Crushed':\n",
        "      d=[]\n",
        "      d.append(1)\n",
        "    elif data['annotations'][0]['damage'] == 'Breakage':\n",
        "      d=[]\n",
        "      d.append(2)\n",
        "    else:\n",
        "      d=[]\n",
        "      d.append(3)\n",
        "    x = open(txt_dir,'a')\n",
        "    x.write(f'{d[0]} {c[0]} {c[1]} {c[2]} {c[3]}\\n')\n",
        "    x.close()\n",
        "  #만약 파손 부위가 1개 이상이면\n",
        "  elif len(data['annotations']) > 1:\n",
        "    for m in range(len(data['annotations'])):\n",
        "      a=len(data['annotations'][m]['segmentation'][0][0])\n",
        "      b=data['annotations'][m]['segmentation'][0][0]\n",
        "      x_points=[]\n",
        "      y_points=[]\n",
        "      for j in range(a):\n",
        "        x_points.append(b[j][0])\n",
        "        y_points.append(b[j][1])\n",
        "      c=[((min(x_points)+max(x_points))/2)*(1/w),((min(y_points)+max(y_points))/2)*(1/h), (max(x_points)-min(x_points))*(1/w),(max(y_points)-min(y_points))*(1/h)]\n",
        "      #저장\n",
        "      if m==0:\n",
        "        if data['annotations'][m]['damage'] == 'Scratched':\n",
        "          d=[]\n",
        "          d.append(0)\n",
        "        elif data['annotations'][m]['damage'] == 'Crushed':\n",
        "          d=[]\n",
        "          d.append(1)\n",
        "        elif data['annotations'][m]['damage'] == 'Breakage':\n",
        "          d=[]\n",
        "          d.append(2)\n",
        "        else:\n",
        "          d=[]\n",
        "          d.append(3)\n",
        "        x = open(txt_dir,'a')\n",
        "        x.write(f'{d[0]} {c[0]} {c[1]} {c[2]} {c[3]}\\n')\n",
        "        x.close()\n",
        "      else:\n",
        "        if data['annotations'][m]['damage'] == 'Scratched':\n",
        "          d=[]\n",
        "          d.append(0)\n",
        "        elif data['annotations'][m]['damage'] == 'Crushed':\n",
        "          d=[]\n",
        "          d.append(1)\n",
        "        elif data['annotations'][m]['damage'] == 'Breakage':\n",
        "          d=[]\n",
        "          d.append(2)\n",
        "        else:\n",
        "          d=[]\n",
        "          d.append(3)\n",
        "        x = open(txt_dir,'a')\n",
        "        x.write(f'{d[0]} {c[0]} {c[1]} {c[2]} {c[3]}\\n')\n",
        "        x.close()"
      ]
    },
    {
      "cell_type": "code",
      "execution_count": 13,
      "metadata": {
        "colab": {
          "base_uri": "https://localhost:8080/"
        },
        "id": "K1O43--ADABd",
        "outputId": "345384e1-a069-42dc-e20c-391b9b8d4d72"
      },
      "outputs": [
        {
          "name": "stderr",
          "output_type": "stream",
          "text": [
            "100%|██████████| 10164/10164 [01:22<00:00, 123.02it/s]\n"
          ]
        }
      ],
      "source": [
        "for i in tqdm(range(40463,50627)): # 만개 안에서\n",
        "  #이미지 shape 구하기\n",
        "  \n",
        "  with open(damage_dir+files[i], 'r', encoding='utf-8-sig') as json_file: # 디렉토리에 있는 i번째 제이슨 파일을 불러들인데\n",
        "        data = json.load(json_file) # 제이슨 파일을 로드한다.\n",
        "  name=data['images']['file_name'] # name은 제이슨의 'image' 와 'file_name'\n",
        "  txt_dir=f'C:/Dev/yolov5/datas/texts5/{name[:-4]}.txt' # 텍스트 디렉토리는 파일명의 .txt\n",
        "  x = open(txt_dir,'w') # 텍스트 디렉토리를 열고 쓴다.\n",
        "  x.close()\n",
        "\n",
        "  w = data['images']['width']\n",
        "  h = data['images']['height'] \n",
        "\n",
        "  # 만약 파손 부위가 하나이면\n",
        "  if len(data['annotations']) == 1 :\n",
        "    a=len(data['annotations'][0]['segmentation'][0][0])\n",
        "    b=data['annotations'][0]['segmentation'][0][0]\n",
        "    x_points=[]\n",
        "    y_points=[]\n",
        "    for k in range(a):\n",
        "      x_points.append(b[k][0])\n",
        "      y_points.append(b[k][1])\n",
        "    c=[((min(x_points)+max(x_points))/2)*(1/w),((min(y_points)+max(y_points))/2)*(1/h), (max(x_points)-min(x_points))*(1/w),(max(y_points)-min(y_points))*(1/h)]\n",
        "    # 저장\n",
        "    if data['annotations'][0]['damage'] == 'Scratched':\n",
        "      d=[]\n",
        "      d.append(0)\n",
        "    elif data['annotations'][0]['damage'] == 'Crushed':\n",
        "      d=[]\n",
        "      d.append(1)\n",
        "    elif data['annotations'][0]['damage'] == 'Breakage':\n",
        "      d=[]\n",
        "      d.append(2)\n",
        "    else:\n",
        "      d=[]\n",
        "      d.append(3)\n",
        "    x = open(txt_dir,'a')\n",
        "    x.write(f'{d[0]} {c[0]} {c[1]} {c[2]} {c[3]}\\n')\n",
        "    x.close()\n",
        "  #만약 파손 부위가 1개 이상이면\n",
        "  elif len(data['annotations']) > 1:\n",
        "    for m in range(len(data['annotations'])):\n",
        "      a=len(data['annotations'][m]['segmentation'][0][0])\n",
        "      b=data['annotations'][m]['segmentation'][0][0]\n",
        "      x_points=[]\n",
        "      y_points=[]\n",
        "      for j in range(a):\n",
        "        x_points.append(b[j][0])\n",
        "        y_points.append(b[j][1])\n",
        "      c=[((min(x_points)+max(x_points))/2)*(1/w),((min(y_points)+max(y_points))/2)*(1/h), (max(x_points)-min(x_points))*(1/w),(max(y_points)-min(y_points))*(1/h)]\n",
        "      #저장\n",
        "      if m==0:\n",
        "        if data['annotations'][m]['damage'] == 'Scratched':\n",
        "          d=[]\n",
        "          d.append(0)\n",
        "        elif data['annotations'][m]['damage'] == 'Crushed':\n",
        "          d=[]\n",
        "          d.append(1)\n",
        "        elif data['annotations'][m]['damage'] == 'Breakage':\n",
        "          d=[]\n",
        "          d.append(2)\n",
        "        else:\n",
        "          d=[]\n",
        "          d.append(3)\n",
        "        x = open(txt_dir,'a')\n",
        "        x.write(f'{d[0]} {c[0]} {c[1]} {c[2]} {c[3]}\\n')\n",
        "        x.close()\n",
        "      else:\n",
        "        if data['annotations'][m]['damage'] == 'Scratched':\n",
        "          d=[]\n",
        "          d.append(0)\n",
        "        elif data['annotations'][m]['damage'] == 'Crushed':\n",
        "          d=[]\n",
        "          d.append(1)\n",
        "        elif data['annotations'][m]['damage'] == 'Breakage':\n",
        "          d=[]\n",
        "          d.append(2)\n",
        "        else:\n",
        "          d=[]\n",
        "          d.append(3)\n",
        "        x = open(txt_dir,'a')\n",
        "        x.write(f'{d[0]} {c[0]} {c[1]} {c[2]} {c[3]}\\n')\n",
        "        x.close()"
      ]
    },
    {
      "cell_type": "code",
      "execution_count": null,
      "metadata": {
        "colab": {
          "base_uri": "https://localhost:8080/"
        },
        "id": "iGsTBGMVEB2a",
        "outputId": "985d9365-acc2-46bc-cc44-876bf775bbee"
      },
      "outputs": [
        {
          "data": {
            "text/plain": [
              "513"
            ]
          },
          "execution_count": 77,
          "metadata": {},
          "output_type": "execute_result"
        }
      ],
      "source": []
    },
    {
      "cell_type": "code",
      "execution_count": null,
      "metadata": {
        "id": "5FSPSLCgEkF2"
      },
      "outputs": [],
      "source": []
    }
  ],
  "metadata": {
    "colab": {
      "collapsed_sections": [],
      "provenance": []
    },
    "kernelspec": {
      "display_name": "Python 3.9.10 64-bit",
      "language": "python",
      "name": "python3"
    },
    "language_info": {
      "codemirror_mode": {
        "name": "ipython",
        "version": 3
      },
      "file_extension": ".py",
      "mimetype": "text/x-python",
      "name": "python",
      "nbconvert_exporter": "python",
      "pygments_lexer": "ipython3",
      "version": "3.9.10"
    },
    "vscode": {
      "interpreter": {
        "hash": "58af98c40b543e76eacc2e559dad9056dd1d862d9bc88ad430627968da8d19dc"
      }
    }
  },
  "nbformat": 4,
  "nbformat_minor": 0
}
