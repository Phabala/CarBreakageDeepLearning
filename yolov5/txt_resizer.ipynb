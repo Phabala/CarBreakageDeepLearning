{
 "cells": [
  {
   "cell_type": "markdown",
   "metadata": {},
   "source": [
    "# 이미지 H, W, C 얻기"
   ]
  },
  {
   "cell_type": "code",
   "execution_count": 1,
   "metadata": {},
   "outputs": [],
   "source": [
    "import numpy as np\n",
    "import cv2"
   ]
  },
  {
   "cell_type": "code",
   "execution_count": 2,
   "metadata": {},
   "outputs": [
    {
     "name": "stdout",
     "output_type": "stream",
     "text": [
      "(600, 800, 3)\n"
     ]
    }
   ],
   "source": [
    "img = cv2.imread('C:/Dev/bigdata/imgs/datas/1.Training/1.원천데이터/TS_damage/damage_img/damage_img01/0000002_as-0036229.jpg')\n",
    "\n",
    "print(img.shape)"
   ]
  },
  {
   "cell_type": "code",
   "execution_count": 5,
   "metadata": {},
   "outputs": [
    {
     "data": {
      "text/plain": [
       "(600, 800, 3)"
      ]
     },
     "execution_count": 5,
     "metadata": {},
     "output_type": "execute_result"
    }
   ],
   "source": [
    "h, w, c = img.shape\n",
    "h, w, c "
   ]
  },
  {
   "cell_type": "code",
   "execution_count": 6,
   "metadata": {},
   "outputs": [],
   "source": [
    "def replace_in_file(file_path, old_str, new_str):\n",
    "    # 파일 읽어들이기\n",
    "    fr = open(file_path, 'r')\n",
    "    lines = fr.readlines()\n",
    "    fr.close()\n",
    "\n",
    "    # old_str -> new_str 치환\n",
    "    fw = open(file_path, 'w')\n",
    "    for line in lines:\n",
    "        fw.write(line.replace(old_str, new_str))\n",
    "    fw.close()"
   ]
  },
  {
   "cell_type": "code",
   "execution_count": null,
   "metadata": {},
   "outputs": [],
   "source": [
    "# 호출: file1.txt에서 comma 없애기\n",
    "# replace_in_file(\"C:\\\\test\\\\file1.txt\", \",\", \"\")"
   ]
  },
  {
   "cell_type": "code",
   "execution_count": null,
   "metadata": {},
   "outputs": [],
   "source": [
    "replace_in_file('C:/Dev/yolov5/datas/test_texts', "
   ]
  }
 ],
 "metadata": {
  "kernelspec": {
   "display_name": "Python 3.9.10 64-bit",
   "language": "python",
   "name": "python3"
  },
  "language_info": {
   "codemirror_mode": {
    "name": "ipython",
    "version": 3
   },
   "file_extension": ".py",
   "mimetype": "text/x-python",
   "name": "python",
   "nbconvert_exporter": "python",
   "pygments_lexer": "ipython3",
   "version": "3.9.10"
  },
  "orig_nbformat": 4,
  "vscode": {
   "interpreter": {
    "hash": "58af98c40b543e76eacc2e559dad9056dd1d862d9bc88ad430627968da8d19dc"
   }
  }
 },
 "nbformat": 4,
 "nbformat_minor": 2
}
